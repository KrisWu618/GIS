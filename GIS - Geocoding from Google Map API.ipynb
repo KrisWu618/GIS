{
 "cells": [
  {
   "cell_type": "code",
   "execution_count": 11,
   "metadata": {
    "collapsed": false
   },
   "outputs": [],
   "source": [
    "import pandas as pd\n",
    "import requests\n",
    "import json"
   ]
  },
  {
   "cell_type": "code",
   "execution_count": 61,
   "metadata": {
    "collapsed": false
   },
   "outputs": [],
   "source": [
    "df = pd.read_pickle('Data')"
   ]
  },
  {
   "cell_type": "code",
   "execution_count": 62,
   "metadata": {
    "collapsed": false
   },
   "outputs": [
    {
     "data": {
      "text/plain": [
       "(22112, 103)"
      ]
     },
     "execution_count": 62,
     "metadata": {},
     "output_type": "execute_result"
    }
   ],
   "source": [
    "df.shape"
   ]
  },
  {
   "cell_type": "code",
   "execution_count": 63,
   "metadata": {
    "collapsed": false
   },
   "outputs": [
    {
     "data": {
      "text/html": [
       "<div>\n",
       "<table border=\"1\" class=\"dataframe\">\n",
       "  <thead>\n",
       "    <tr style=\"text-align: right;\">\n",
       "      <th></th>\n",
       "      <th>Id</th>\n",
       "      <th>DataSourceId</th>\n",
       "      <th>DataId</th>\n",
       "      <th>MLSNumber</th>\n",
       "      <th>ModificationDateTime</th>\n",
       "      <th>StatusChangeDateTime</th>\n",
       "      <th>Status</th>\n",
       "      <th>StatusEnum</th>\n",
       "      <th>SaleType</th>\n",
       "      <th>SaleTypeEnum</th>\n",
       "      <th>...</th>\n",
       "      <th>ElementarySchoolDistrict</th>\n",
       "      <th>MiddleOrJuniorSchool</th>\n",
       "      <th>MiddleOrJuniorSchoolDistrict</th>\n",
       "      <th>HighSchool</th>\n",
       "      <th>HighSchoolDistrict</th>\n",
       "      <th>dataSourceName</th>\n",
       "      <th>dataSourceDescription</th>\n",
       "      <th>Location</th>\n",
       "      <th>lat</th>\n",
       "      <th>lng</th>\n",
       "    </tr>\n",
       "  </thead>\n",
       "  <tbody>\n",
       "    <tr>\n",
       "      <th>0</th>\n",
       "      <td>10000</td>\n",
       "      <td>3</td>\n",
       "      <td>587798</td>\n",
       "      <td>S708420</td>\n",
       "      <td>2013-01-01 11:29:07</td>\n",
       "      <td>2013-01-01 11:29:07</td>\n",
       "      <td>S</td>\n",
       "      <td>0</td>\n",
       "      <td>NOD</td>\n",
       "      <td>3.0</td>\n",
       "      <td>...</td>\n",
       "      <td>None</td>\n",
       "      <td>None</td>\n",
       "      <td>None</td>\n",
       "      <td>None</td>\n",
       "      <td>None</td>\n",
       "      <td>None</td>\n",
       "      <td>None</td>\n",
       "      <td>None</td>\n",
       "      <td>33.747795</td>\n",
       "      <td>-117.863906</td>\n",
       "    </tr>\n",
       "    <tr>\n",
       "      <th>1</th>\n",
       "      <td>10001</td>\n",
       "      <td>3</td>\n",
       "      <td>615367</td>\n",
       "      <td>P835779</td>\n",
       "      <td>2013-01-01 10:00:56</td>\n",
       "      <td>2013-01-01 10:00:56</td>\n",
       "      <td>S</td>\n",
       "      <td>4</td>\n",
       "      <td>STD</td>\n",
       "      <td>1.0</td>\n",
       "      <td>...</td>\n",
       "      <td>None</td>\n",
       "      <td>None</td>\n",
       "      <td>None</td>\n",
       "      <td>None</td>\n",
       "      <td>None</td>\n",
       "      <td>None</td>\n",
       "      <td>None</td>\n",
       "      <td>POINT(34.0737809 -117.98583)</td>\n",
       "      <td>34.073781</td>\n",
       "      <td>-117.985830</td>\n",
       "    </tr>\n",
       "    <tr>\n",
       "      <th>2</th>\n",
       "      <td>10002</td>\n",
       "      <td>3</td>\n",
       "      <td>616798</td>\n",
       "      <td>M12118580</td>\n",
       "      <td>2013-01-01 09:57:43</td>\n",
       "      <td>2013-01-01 09:57:43</td>\n",
       "      <td>S</td>\n",
       "      <td>4</td>\n",
       "      <td>NOD,SPAY</td>\n",
       "      <td>3.0</td>\n",
       "      <td>...</td>\n",
       "      <td>None</td>\n",
       "      <td>None</td>\n",
       "      <td>None</td>\n",
       "      <td>None</td>\n",
       "      <td>None</td>\n",
       "      <td>None</td>\n",
       "      <td>None</td>\n",
       "      <td>POINT(34.576074 -118.00609)</td>\n",
       "      <td>34.576074</td>\n",
       "      <td>-118.006090</td>\n",
       "    </tr>\n",
       "    <tr>\n",
       "      <th>3</th>\n",
       "      <td>10003</td>\n",
       "      <td>3</td>\n",
       "      <td>619145</td>\n",
       "      <td>H12113661</td>\n",
       "      <td>2013-01-01 07:45:48</td>\n",
       "      <td>2013-01-01 07:45:48</td>\n",
       "      <td>S</td>\n",
       "      <td>4</td>\n",
       "      <td>STD</td>\n",
       "      <td>1.0</td>\n",
       "      <td>...</td>\n",
       "      <td>None</td>\n",
       "      <td>None</td>\n",
       "      <td>None</td>\n",
       "      <td>None</td>\n",
       "      <td>None</td>\n",
       "      <td>None</td>\n",
       "      <td>None</td>\n",
       "      <td>POINT(34.033266 -117.817744)</td>\n",
       "      <td>34.033266</td>\n",
       "      <td>-117.817744</td>\n",
       "    </tr>\n",
       "    <tr>\n",
       "      <th>4</th>\n",
       "      <td>10004</td>\n",
       "      <td>3</td>\n",
       "      <td>620751</td>\n",
       "      <td>BB12131404</td>\n",
       "      <td>2013-01-01 07:31:02</td>\n",
       "      <td>2013-01-01 07:31:02</td>\n",
       "      <td>S</td>\n",
       "      <td>4</td>\n",
       "      <td>STD</td>\n",
       "      <td>1.0</td>\n",
       "      <td>...</td>\n",
       "      <td>None</td>\n",
       "      <td>None</td>\n",
       "      <td>None</td>\n",
       "      <td>None</td>\n",
       "      <td>None</td>\n",
       "      <td>None</td>\n",
       "      <td>None</td>\n",
       "      <td>POINT(34.217548 -118.359678)</td>\n",
       "      <td>34.217548</td>\n",
       "      <td>-118.359678</td>\n",
       "    </tr>\n",
       "  </tbody>\n",
       "</table>\n",
       "<p>5 rows × 103 columns</p>\n",
       "</div>"
      ],
      "text/plain": [
       "      Id  DataSourceId  DataId   MLSNumber ModificationDateTime  \\\n",
       "0  10000             3  587798     S708420  2013-01-01 11:29:07   \n",
       "1  10001             3  615367     P835779  2013-01-01 10:00:56   \n",
       "2  10002             3  616798   M12118580  2013-01-01 09:57:43   \n",
       "3  10003             3  619145   H12113661  2013-01-01 07:45:48   \n",
       "4  10004             3  620751  BB12131404  2013-01-01 07:31:02   \n",
       "\n",
       "  StatusChangeDateTime Status  StatusEnum  SaleType  SaleTypeEnum     ...      \\\n",
       "0  2013-01-01 11:29:07      S           0       NOD           3.0     ...       \n",
       "1  2013-01-01 10:00:56      S           4       STD           1.0     ...       \n",
       "2  2013-01-01 09:57:43      S           4  NOD,SPAY           3.0     ...       \n",
       "3  2013-01-01 07:45:48      S           4       STD           1.0     ...       \n",
       "4  2013-01-01 07:31:02      S           4       STD           1.0     ...       \n",
       "\n",
       "  ElementarySchoolDistrict  MiddleOrJuniorSchool  \\\n",
       "0                     None                  None   \n",
       "1                     None                  None   \n",
       "2                     None                  None   \n",
       "3                     None                  None   \n",
       "4                     None                  None   \n",
       "\n",
       "   MiddleOrJuniorSchoolDistrict  HighSchool HighSchoolDistrict dataSourceName  \\\n",
       "0                          None        None               None           None   \n",
       "1                          None        None               None           None   \n",
       "2                          None        None               None           None   \n",
       "3                          None        None               None           None   \n",
       "4                          None        None               None           None   \n",
       "\n",
       "  dataSourceDescription                      Location        lat         lng  \n",
       "0                  None                          None  33.747795 -117.863906  \n",
       "1                  None  POINT(34.0737809 -117.98583)  34.073781 -117.985830  \n",
       "2                  None   POINT(34.576074 -118.00609)  34.576074 -118.006090  \n",
       "3                  None  POINT(34.033266 -117.817744)  34.033266 -117.817744  \n",
       "4                  None  POINT(34.217548 -118.359678)  34.217548 -118.359678  \n",
       "\n",
       "[5 rows x 103 columns]"
      ]
     },
     "execution_count": 63,
     "metadata": {},
     "output_type": "execute_result"
    }
   ],
   "source": [
    "df.head()"
   ]
  },
  {
   "cell_type": "markdown",
   "metadata": {},
   "source": [
    "# Geocoding records without latitute and longtitute data"
   ]
  },
  {
   "cell_type": "code",
   "execution_count": 64,
   "metadata": {
    "collapsed": false
   },
   "outputs": [],
   "source": [
    "df_null = df[df.lat == 0]"
   ]
  },
  {
   "cell_type": "code",
   "execution_count": 65,
   "metadata": {
    "collapsed": false
   },
   "outputs": [
    {
     "data": {
      "text/plain": [
       "(33, 103)"
      ]
     },
     "execution_count": 65,
     "metadata": {},
     "output_type": "execute_result"
    }
   ],
   "source": [
    "df_null.shape"
   ]
  },
  {
   "cell_type": "markdown",
   "metadata": {},
   "source": [
    "### In data, we have 33 record missing latitute and longtitute data"
   ]
  },
  {
   "cell_type": "code",
   "execution_count": 66,
   "metadata": {
    "collapsed": false
   },
   "outputs": [
    {
     "name": "stderr",
     "output_type": "stream",
     "text": [
      "//anaconda/lib/python3.5/site-packages/ipykernel/__main__.py:1: SettingWithCopyWarning: \n",
      "A value is trying to be set on a copy of a slice from a DataFrame.\n",
      "Try using .loc[row_indexer,col_indexer] = value instead\n",
      "\n",
      "See the caveats in the documentation: http://pandas.pydata.org/pandas-docs/stable/indexing.html#indexing-view-versus-copy\n",
      "  if __name__ == '__main__':\n"
     ]
    }
   ],
   "source": [
    "df_null['FullAddress'] = df_null['Address'] + ',' + df_null['City'] + ',' + df_null['State']"
   ]
  },
  {
   "cell_type": "code",
   "execution_count": 67,
   "metadata": {
    "collapsed": false
   },
   "outputs": [
    {
     "data": {
      "text/plain": [
       "1122                12435 Bay Hill Court,Garden Grove,CA\n",
       "4626     8770 Half - Pinecrest Place,Rancho Cucamonga,CA\n",
       "4776                     17605 Caprino Place,Van Nuys,CA\n",
       "6850                   3114 GRANGEMOUNT Road,Glendale,CA\n",
       "7609                   451 DELWOOD Court,Newbury Park,CA\n",
       "8765             3848 SAN CLEMENTE Court,Newbury Park,CA\n",
       "10119                 3888 HARTUNG Court,Newbury Park,CA\n",
       "10159             4340 CAMINO DE LA ROSA,Newbury Park,CA\n",
       "10241                    4989 VIA MESITA,Newbury Park,CA\n",
       "10291                      4244 VIA AZUL,Newbury Park,CA\n",
       "10396             3776 CALLE LINDA VISTA,Newbury Park,CA\n",
       "10480               41 LOS VIENTOS Drive,Newbury Park,CA\n",
       "10532              143 MONTENEGRO Circle,Newbury Park,CA\n",
       "10779              3931 SAN MARCOS Court,Newbury Park,CA\n",
       "10942           1188 GALESMORE Court,Westlake Village,CA\n",
       "11005                824 ALDERDALE Court,Newbury Park,CA\n",
       "11883               1611 Jennings (3rd) Street,Madera,CA\n",
       "12092              21274 Ridgedale Drive,Lake Mathews,CA\n",
       "12397      363 Cedar / Blue Jay Canyon Court,Blue Jay,CA\n",
       "12665            17465 Vanderhill Circle,Lake Mathews,CA\n",
       "12983                       23818 Via Turina,Valencia,CA\n",
       "13952             4310 CAMINO DE LA ROSA,Newbury Park,CA\n",
       "14442             718 Burnt Ranch (Lot 419) Way,Chico,CA\n",
       "14531        10520 LAKESIDE UNIT P Drive,Garden Grove,CA\n",
       "15050                     23920 Mclane Avenue,Corning,CA\n",
       "15687                    26303 Dartmouth Street,Hemet,CA\n",
       "15995                         341 Ea K Street,Brawley,CA\n",
       "17338                  4745 VIA ALTAMIRA,Newbury Park,CA\n",
       "17725         10574 SUNLAND BLVD #5 Boulevard,Sunland,CA\n",
       "17879                       320 Grand Avenue,Monrovia,CA\n",
       "19079       13140 Del Monte  M16-52G Drive,Seal Beach,CA\n",
       "19544                             22 Sanctuary,Irvine,CA\n",
       "21849               8074 Tulsa Place,Rancho Cucamonga,CA\n",
       "Name: FullAddress, dtype: object"
      ]
     },
     "execution_count": 67,
     "metadata": {},
     "output_type": "execute_result"
    }
   ],
   "source": [
    "df_null.FullAddress"
   ]
  },
  {
   "cell_type": "markdown",
   "metadata": {},
   "source": [
    "## Find geocode by address"
   ]
  },
  {
   "cell_type": "code",
   "execution_count": 70,
   "metadata": {
    "collapsed": false
   },
   "outputs": [
    {
     "name": "stderr",
     "output_type": "stream",
     "text": [
      "//anaconda/lib/python3.5/site-packages/ipykernel/__main__.py:9: SettingWithCopyWarning: \n",
      "A value is trying to be set on a copy of a slice from a DataFrame\n",
      "\n",
      "See the caveats in the documentation: http://pandas.pydata.org/pandas-docs/stable/indexing.html#indexing-view-versus-copy\n",
      "//anaconda/lib/python3.5/site-packages/ipykernel/__main__.py:10: SettingWithCopyWarning: \n",
      "A value is trying to be set on a copy of a slice from a DataFrame\n",
      "\n",
      "See the caveats in the documentation: http://pandas.pydata.org/pandas-docs/stable/indexing.html#indexing-view-versus-copy\n"
     ]
    },
    {
     "name": "stdout",
     "output_type": "stream",
     "text": [
      "error: 4626\n",
      "error: 6850\n",
      "error: 7609\n",
      "error: 8765\n",
      "error: 10119\n",
      "error: 10241\n",
      "error: 10291\n",
      "error: 10396\n",
      "error: 10779\n",
      "error: 10942\n",
      "error: 11005\n",
      "error: 11883\n",
      "error: 12092\n",
      "error: 12397\n",
      "error: 12665\n",
      "error: 14442\n",
      "error: 15995\n",
      "error: 17725\n",
      "error: 19079\n",
      "error: 21849\n"
     ]
    }
   ],
   "source": [
    "url = 'https://maps.googleapis.com/maps/api/geocode/json'\n",
    "for index, row in df_null.iterrows():\n",
    "    params = {'key': 'YanKrisWu', 'address': row['FullAddress']}\n",
    "    try:\n",
    "        r = requests.get(url, params=params)\n",
    "        results = r.json()['results']\n",
    "        location = results[0]['geometry']['location']\n",
    "        # insert into original data\n",
    "        df['lat'][index] = location['lat']\n",
    "        df['lng'][index] = location['lng']\n",
    "    except IndexError:\n",
    "        print('error:', index)"
   ]
  },
  {
   "cell_type": "code",
   "execution_count": 78,
   "metadata": {
    "collapsed": false
   },
   "outputs": [
    {
     "data": {
      "text/plain": [
       "(20, 103)"
      ]
     },
     "execution_count": 78,
     "metadata": {},
     "output_type": "execute_result"
    }
   ],
   "source": [
    "df[df.lat == 0].shape"
   ]
  },
  {
   "cell_type": "markdown",
   "metadata": {},
   "source": [
    "## We replace the lat and lng for 13 missing values. Still 20 records could not find geocode."
   ]
  },
  {
   "cell_type": "code",
   "execution_count": 79,
   "metadata": {
    "collapsed": true
   },
   "outputs": [],
   "source": [
    "df.to_pickle('Data_2')"
   ]
  },
  {
   "cell_type": "code",
   "execution_count": null,
   "metadata": {
    "collapsed": true
   },
   "outputs": [],
   "source": []
  }
 ],
 "metadata": {
  "anaconda-cloud": {},
  "kernelspec": {
   "display_name": "Python [default]",
   "language": "python",
   "name": "python3"
  },
  "language_info": {
   "codemirror_mode": {
    "name": "ipython",
    "version": 3
   },
   "file_extension": ".py",
   "mimetype": "text/x-python",
   "name": "python",
   "nbconvert_exporter": "python",
   "pygments_lexer": "ipython3",
   "version": "3.5.2"
  }
 },
 "nbformat": 4,
 "nbformat_minor": 1
}
